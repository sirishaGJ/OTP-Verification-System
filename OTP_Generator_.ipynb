{
  "nbformat": 4,
  "nbformat_minor": 0,
  "metadata": {
    "colab": {
      "provenance": []
    },
    "kernelspec": {
      "name": "python3",
      "display_name": "Python 3"
    },
    "language_info": {
      "name": "python"
    }
  },
  "cells": [
    {
      "cell_type": "code",
      "source": [
        "import random\n",
        "\n",
        "\n",
        "def generate_otp():\n",
        "    \"\"\"Generates a 6-digit random OTP Number .\"\"\"\n",
        "    return str(random.randint(100000, 999999))\n",
        "\n",
        "\n",
        "def send_otp_to_email(email, otp):\n",
        "    \"\"\"Simulates sending the Otp to an email address.\"\"\"\n",
        "    print(f'Sending OTP toemail : ({email})')\n",
        "    # this is only for testing purposes\n",
        "    print(f' Generated OTP : {otp}')\n",
        "\n",
        "\n",
        "def prompt_user_for_otp():\n",
        "    \"\"\"Prompts the user to enter the  OTP received in their email .\"\"\"\n",
        "    return input(\"Enter the OTP received in your email:  \")\n",
        "\n",
        "\n",
        "def verify_otp(generated_otp, retries):\n",
        "    \"\"\"Checks if the entered Otp mateches the generated OTP.\"\"\"\n",
        "    while retries > 0:\n",
        "        entered_otp = prompt_user_for_otp()\n",
        "        if entered_otp == generated_otp:\n",
        "            print(\"Access granted- Login Successful\")\n",
        "            return True\n",
        "        else:\n",
        "            retries -= 1  # Decrement retries after checking the OTP\n",
        "            print(f\"Incorrect OTP. You have {retries} attempt(s) remaining.\")\n",
        "    print(\"Too many incorrect attempts. Access Denied.\")\n",
        "    return False\n",
        "\n",
        "\n",
        "def main():\n",
        "    \"\"\"Main function to run the OTP Verification System.\"\"\"\n",
        "    email = \"user09@gmail.com\"\n",
        "    retries = 3\n",
        "    generated_otp = generate_otp()\n",
        "    send_otp_to_email(email, generated_otp)\n",
        "    verify_otp(generated_otp, retries)\n",
        "\n",
        "\n",
        "# call the main function\n",
        "main()"
      ],
      "metadata": {
        "colab": {
          "base_uri": "https://localhost:8080/"
        },
        "id": "1kshBGkpCdz0",
        "outputId": "6eafe6ea-298b-47a0-dcaf-96ed5f537407"
      },
      "execution_count": 26,
      "outputs": [
        {
          "output_type": "stream",
          "name": "stdout",
          "text": [
            "Sending OTP toemail : (user09@gmail.com)\n",
            " Generated OTP : 982516\n",
            "Enter the OTP received in your email:  982516\n",
            "Access granted- Login Successful\n"
          ]
        }
      ]
    }
  ]
}